{
 "cells": [
  {
   "cell_type": "code",
   "execution_count": 0,
   "metadata": {
    "colab": {
     "autoexec": {
      "startup": false,
      "wait_interval": 0
     }
    },
    "colab_type": "code",
    "id": "K9MvatsAUcv9"
   },
   "outputs": [],
   "source": [
    "# Load pickled data\n",
    "import pickle\n",
    "\n",
    "# TODO: Fill this in based on where you saved the training and testing data\n",
    "\n",
    "training_file = 'drive/Traffic-CARND-Project2/train.p'\n",
    "validation_file='drive/Traffic-CARND-Project2/valid.p'\n",
    "testing_file = 'drive/Traffic-CARND-Project2/test.p'\n",
    "\n",
    "with open(training_file, mode='rb') as f:\n",
    "    train = pickle.load(f)\n",
    "with open(validation_file, mode='rb') as f:\n",
    "    valid = pickle.load(f)\n",
    "with open(testing_file, mode='rb') as f:\n",
    "    test = pickle.load(f)\n",
    "    \n",
    "X_train, y_train = train['features'], train['labels']\n",
    "X_valid, y_valid = valid['features'], valid['labels']\n",
    "X_test, y_test = test['features'], test['labels']"
   ]
  },
  {
   "cell_type": "code",
   "execution_count": 2,
   "metadata": {
    "colab": {
     "autoexec": {
      "startup": false,
      "wait_interval": 0
     },
     "base_uri": "https://localhost:8080/",
     "height": 102
    },
    "colab_type": "code",
    "executionInfo": {
     "elapsed": 958,
     "status": "ok",
     "timestamp": 1528470136823,
     "user": {
      "displayName": "Thiyagarajan Ramanathan",
      "photoUrl": "https://lh3.googleusercontent.com/a/default-user=s128",
      "userId": "111432628313695784552"
     },
     "user_tz": -330
    },
    "id": "_Zd9ZHxhWrJm",
    "outputId": "c42b348f-7c40-487f-bf9c-6f0e709b9e8d"
   },
   "outputs": [
    {
     "name": "stdout",
     "output_type": "stream",
     "text": [
      "Number of training examples = 34799\n",
      "Number of validation examples = 4410\n",
      "Number of testing examples = 12630\n",
      "Image data shape = [32, 32]\n",
      "Number of classes = 43\n"
     ]
    }
   ],
   "source": [
    "### Replace each question mark with the appropriate value. \n",
    "### Use python, pandas or numpy methods rather than hard coding the results\n",
    "import numpy as np\n",
    "# TODO: Number of training examples\n",
    "n_train = len(X_train)\n",
    "\n",
    "# TODO: Number of validation examples\n",
    "n_validation = len(X_valid)\n",
    "\n",
    "# TODO: Number of testing examples.\n",
    "n_test = len(X_test)\n",
    "\n",
    "# TODO: What's the shape of an traffic sign image?\n",
    "image_shape = [X_train.shape[1],X_train.shape[2]]\n",
    "\n",
    "# TODO: How many unique classes/labels there are in the dataset.\n",
    "n_classes = len(np.unique(y_train))\n",
    "\n",
    "print(\"Number of training examples =\", n_train)\n",
    "print(\"Number of validation examples =\", n_validation)\n",
    "print(\"Number of testing examples =\", n_test)\n",
    "print(\"Image data shape =\", image_shape)\n",
    "print(\"Number of classes =\", n_classes)"
   ]
  },
  {
   "cell_type": "code",
   "execution_count": 3,
   "metadata": {
    "colab": {
     "autoexec": {
      "startup": false,
      "wait_interval": 0
     },
     "base_uri": "https://localhost:8080/",
     "height": 297
    },
    "colab_type": "code",
    "executionInfo": {
     "elapsed": 1234,
     "status": "ok",
     "timestamp": 1528470138768,
     "user": {
      "displayName": "Thiyagarajan Ramanathan",
      "photoUrl": "https://lh3.googleusercontent.com/a/default-user=s128",
      "userId": "111432628313695784552"
     },
     "user_tz": -330
    },
    "id": "n9Msu9loXkWM",
    "outputId": "693b7b8a-7ed6-4b46-ea95-090235d27d9a"
   },
   "outputs": [
    {
     "data": {
      "text/plain": [
       "Text(0.5,1,'25')"
      ]
     },
     "execution_count": 3,
     "metadata": {
      "tags": []
     },
     "output_type": "execute_result"
    },
    {
     "data": {
      "image/png": "[encoded data removed]",
      "text/plain": [
       "<matplotlib.figure.Figure at 0x7f92810e6a90>"
      ]
     },
     "metadata": {
      "tags": []
     },
     "output_type": "display_data"
    }
   ],
   "source": [
    "### Data exploration visualization code goes here.\n",
    "### Feel free to use as many code cells as needed.\n",
    "import matplotlib.pyplot as plt\n",
    "import random\n",
    "# Visualizations will be shown in the notebook.\n",
    "%matplotlib inline\n",
    "example=random.randint(0,len(X_train))\n",
    "plt.imshow(X_train[example,:,:,:])\n",
    "plt.title(y_train[example])"
   ]
  },
  {
   "cell_type": "code",
   "execution_count": 4,
   "metadata": {
    "colab": {
     "autoexec": {
      "startup": false,
      "wait_interval": 0
     },
     "base_uri": "https://localhost:8080/",
     "height": 748
    },
    "colab_type": "code",
    "executionInfo": {
     "elapsed": 946,
     "status": "ok",
     "timestamp": 1528470140302,
     "user": {
      "displayName": "Thiyagarajan Ramanathan",
      "photoUrl": "https://lh3.googleusercontent.com/a/default-user=s128",
      "userId": "111432628313695784552"
     },
     "user_tz": -330
    },
    "id": "V1jJmtUzXmZJ",
    "outputId": "c21aa0c3-d831-4be9-8295-019aa090b937"
   },
   "outputs": [
    {
     "name": "stdout",
     "output_type": "stream",
     "text": [
      "Image number: 1, count: 180\n",
      "Image number: 2, count: 1980\n",
      "Image number: 3, count: 2010\n",
      "Image number: 4, count: 1260\n",
      "Image number: 5, count: 1770\n",
      "Image number: 6, count: 1650\n",
      "Image number: 7, count: 360\n",
      "Image number: 8, count: 1290\n",
      "Image number: 9, count: 1260\n",
      "Image number: 10, count: 1320\n",
      "Image number: 11, count: 1800\n",
      "Image number: 12, count: 1170\n",
      "Image number: 13, count: 1890\n",
      "Image number: 14, count: 1920\n",
      "Image number: 15, count: 690\n",
      "Image number: 16, count: 540\n",
      "Image number: 17, count: 360\n",
      "Image number: 18, count: 990\n",
      "Image number: 19, count: 1080\n",
      "Image number: 20, count: 180\n",
      "Image number: 21, count: 300\n",
      "Image number: 22, count: 270\n",
      "Image number: 23, count: 330\n",
      "Image number: 24, count: 450\n",
      "Image number: 25, count: 240\n",
      "Image number: 26, count: 1350\n",
      "Image number: 27, count: 540\n",
      "Image number: 28, count: 210\n",
      "Image number: 29, count: 480\n",
      "Image number: 30, count: 240\n",
      "Image number: 31, count: 390\n",
      "Image number: 32, count: 690\n",
      "Image number: 33, count: 210\n",
      "Image number: 34, count: 599\n",
      "Image number: 35, count: 360\n",
      "Image number: 36, count: 1080\n",
      "Image number: 37, count: 330\n",
      "Image number: 38, count: 180\n",
      "Image number: 39, count: 1860\n",
      "Image number: 40, count: 270\n",
      "Image number: 41, count: 300\n",
      "Image number: 42, count: 210\n",
      "Image number: 43, count: 210\n"
     ]
    }
   ],
   "source": [
    "#to find the number of unique images in the test set\n",
    "import numpy as np\n",
    "\n",
    "unique_images,image_count=np.unique(y_train,return_counts=True)\n",
    "for i in range(len(unique_images)):\n",
    "    print(\"Image number: {}, count: {}\".format(unique_images[i]+1,image_count[i]))"
   ]
  },
  {
   "cell_type": "code",
   "execution_count": 0,
   "metadata": {
    "colab": {
     "autoexec": {
      "startup": false,
      "wait_interval": 0
     }
    },
    "colab_type": "code",
    "id": "9Nrahb5xi_IK"
   },
   "outputs": [],
   "source": [
    "##Converting Image to grayscale\n",
    "X_train = np.sum(X_train/3, axis=3, keepdims=True)\n",
    "X_valid = np.sum(X_valid/3, axis=3, keepdims=True)\n",
    "X_test  = np.sum(X_test/3, axis=3, keepdims=True)"
   ]
  },
  {
   "cell_type": "code",
   "execution_count": 0,
   "metadata": {
    "colab": {
     "autoexec": {
      "startup": false,
      "wait_interval": 0
     }
    },
    "colab_type": "code",
    "id": "32hjcQTzkQOQ"
   },
   "outputs": [],
   "source": [
    "##Normalizing the images between 0 and 1\n",
    "X_train = (X_train - 128)/128 \n",
    "X_test= (X_test - 128)/128\n",
    "X_valid=(X_valid-128)/128\n"
   ]
  },
  {
   "cell_type": "code",
   "execution_count": 0,
   "metadata": {
    "colab": {
     "autoexec": {
      "startup": false,
      "wait_interval": 0
     }
    },
    "colab_type": "code",
    "id": "v6wyPh3AXuKq"
   },
   "outputs": [],
   "source": [
    "#shuffle the dataset\n",
    "from sklearn.utils import shuffle\n",
    "\n",
    "X_train, y_train = shuffle(X_train, y_train)\n",
    "X_train=X_train.reshape(len(X_train),32,32,1)\n",
    "X_valid=X_valid.reshape(len(X_valid),32,32,1)\n",
    "X_test=X_test.reshape(len(X_test),32,32,1)"
   ]
  },
  {
   "cell_type": "code",
   "execution_count": 0,
   "metadata": {
    "colab": {
     "autoexec": {
      "startup": false,
      "wait_interval": 0
     }
    },
    "colab_type": "code",
    "id": "AQ-UqXeZZzVj"
   },
   "outputs": [],
   "source": [
    "import tensorflow as tf\n",
    "\n",
    "EPOCHS = 40\n",
    "BATCH_SIZE = 128"
   ]
  },
  {
   "cell_type": "code",
   "execution_count": 0,
   "metadata": {
    "colab": {
     "autoexec": {
      "startup": false,
      "wait_interval": 0
     }
    },
    "colab_type": "code",
    "id": "xEDk3_yMZ1no"
   },
   "outputs": [],
   "source": [
    "### Define your architecture here.\n",
    "from tensorflow.contrib.layers import flatten\n",
    "\n",
    "def LeNet(x):    \n",
    "    # Arguments used for tf.truncated_normal, randomly defines variables for the weights and biases for each layer\n",
    "    mu = 0\n",
    "    sigma = 0.1\n",
    "    \n",
    "    #Layer 1: Convolutional. Input = 32x32x1. Output = 28x28x6.\n",
    "    conv1_W = tf.Variable(tf.truncated_normal(shape=(5, 5, 1, 6), mean = mu, stddev = sigma))\n",
    "    conv1_b = tf.Variable(tf.zeros(6))\n",
    "    conv1   = tf.nn.conv2d(x, conv1_W, strides=[1, 1, 1, 1], padding='VALID') + conv1_b\n",
    "    conv1   = tf.nn.relu(conv1)\n",
    "\n",
    "    #Pooling. Input = 28x28x6. Output = 14x14x6.\n",
    "    conv1 = tf.nn.max_pool(conv1, ksize=[1, 2, 2, 1], strides=[1, 2, 2, 1], padding='VALID')\n",
    "\n",
    "    #Layer 2: Convolutional. Output = 10x10x16.\n",
    "    conv2_W = tf.Variable(tf.truncated_normal(shape=(5, 5, 6, 16), mean = mu, stddev = sigma))\n",
    "    conv2_b = tf.Variable(tf.zeros(16))\n",
    "    conv2   = tf.nn.conv2d(conv1, conv2_W, strides=[1, 1, 1, 1], padding='VALID') + conv2_b\n",
    "    \n",
    "    #Activation.\n",
    "    conv2 = tf.nn.relu(conv2)\n",
    "    x_1   = flatten(conv2) #Shape: 1600\n",
    "\n",
    "    #Pooling. Input = 10x10x16. Output = 5x5x16.\n",
    "    conv2 = tf.nn.max_pool(conv2, ksize=[1, 2, 2, 1], strides=[1, 2, 2, 1], padding='VALID')\n",
    "   \n",
    "    #Layer 3: Convolutional. Output = 3x3x32.\n",
    "    conv3_W = tf.Variable(tf.truncated_normal(shape=(3, 3, 16, 32), mean = mu, stddev = sigma))\n",
    "    conv3_b = tf.Variable(tf.zeros(32))\n",
    "    conv3   = tf.nn.conv2d(conv2, conv3_W, strides=[1, 1, 1, 1], padding='VALID') + conv3_b\n",
    "    conv3   = tf.nn.relu(conv3)\n",
    "   \n",
    "    #Flatten. Input = 3x3x32. Output = 288.\n",
    "    x_2   = flatten(conv3)\n",
    "    \n",
    "    final_fc=tf.concat([x_1, x_2], 1)  #shape: 288+1600=1888\n",
    "    final_fc=tf.nn.dropout(final_fc,keep_prob)\n",
    "    # SOLUTION: Layer 3: Fully Connected. Input = 1888. Output = 1024.\n",
    "    fc1_W = tf.Variable(tf.truncated_normal(shape=(1888, 1024), mean = mu, stddev = sigma))\n",
    "    fc1_b = tf.Variable(tf.zeros(1024))\n",
    "    fc1   = tf.matmul(final_fc, fc1_W) + fc1_b\n",
    "    \n",
    "    # SOLUTION: Activation.\n",
    "    fc1    = tf.nn.relu(fc1)\n",
    "\n",
    "    # SOLUTION: Layer 4: Fully Connected. Input = 1024. Output = 512.\n",
    "    fc2_W  = tf.Variable(tf.truncated_normal(shape=(1024, 512), mean = mu, stddev = sigma))\n",
    "    fc2_b  = tf.Variable(tf.zeros(512))\n",
    "    fc2    = tf.matmul(fc1, fc2_W) + fc2_b\n",
    "    \n",
    "    # SOLUTION: Activation.\n",
    "    fc2    = tf.nn.relu(fc2)\n",
    "\n",
    "    # SOLUTION: Layer 5: Fully Connected. Input = 512. Output = 43.\n",
    "    fc3_W  = tf.Variable(tf.truncated_normal(shape=(512, 43), mean = mu, stddev = sigma))\n",
    "    fc3_b  = tf.Variable(tf.zeros(43))\n",
    "    logits = tf.matmul(fc2, fc3_W) + fc3_b\n",
    "    \n",
    "    return logits"
   ]
  },
  {
   "cell_type": "code",
   "execution_count": 0,
   "metadata": {
    "colab": {
     "autoexec": {
      "startup": false,
      "wait_interval": 0
     }
    },
    "colab_type": "code",
    "id": "MdSnVS3nZ6aT"
   },
   "outputs": [],
   "source": [
    "x = tf.placeholder(tf.float32, (None, 32, 32,1))\n",
    "y = tf.placeholder(tf.int32, (None))\n",
    "keep_prob=tf.placeholder(tf.float32)\n",
    "one_hot_y = tf.one_hot(y,43)\n"
   ]
  },
  {
   "cell_type": "code",
   "execution_count": 11,
   "metadata": {
    "colab": {
     "autoexec": {
      "startup": false,
      "wait_interval": 0
     },
     "base_uri": "https://localhost:8080/",
     "height": 173
    },
    "colab_type": "code",
    "executionInfo": {
     "elapsed": 1591,
     "status": "ok",
     "timestamp": 1528470161605,
     "user": {
      "displayName": "Thiyagarajan Ramanathan",
      "photoUrl": "https://lh3.googleusercontent.com/a/default-user=s128",
      "userId": "111432628313695784552"
     },
     "user_tz": -330
    },
    "id": "bWvPKSpHZ9Dn",
    "outputId": "873c349a-a897-4725-b9d8-218de9cbfaf7"
   },
   "outputs": [
    {
     "name": "stdout",
     "output_type": "stream",
     "text": [
      "WARNING:tensorflow:From <ipython-input-11-cc1927ca5975>:4: softmax_cross_entropy_with_logits (from tensorflow.python.ops.nn_ops) is deprecated and will be removed in a future version.\n",
      "Instructions for updating:\n",
      "\n",
      "Future major versions of TensorFlow will allow gradients to flow\n",
      "into the labels input on backprop by default.\n",
      "\n",
      "See @{tf.nn.softmax_cross_entropy_with_logits_v2}.\n",
      "\n"
     ]
    }
   ],
   "source": [
    "rate = 0.001\n",
    "\n",
    "logits = LeNet(x)\n",
    "cross_entropy = tf.nn.softmax_cross_entropy_with_logits(labels=one_hot_y, logits=logits)\n",
    "loss_operation = tf.reduce_mean(cross_entropy)\n",
    "optimizer = tf.train.AdamOptimizer(learning_rate = rate)\n",
    "training_operation = optimizer.minimize(loss_operation)"
   ]
  },
  {
   "cell_type": "code",
   "execution_count": 0,
   "metadata": {
    "colab": {
     "autoexec": {
      "startup": false,
      "wait_interval": 0
     }
    },
    "colab_type": "code",
    "id": "AJrYngTAZ-wK"
   },
   "outputs": [],
   "source": [
    "correct_prediction = tf.equal(tf.argmax(logits, 1), tf.argmax(one_hot_y, 1))\n",
    "accuracy_operation = tf.reduce_mean(tf.cast(correct_prediction, tf.float32))\n",
    "saver = tf.train.Saver()\n",
    "\n",
    "def evaluate(X_data, y_data):\n",
    "    num_examples = len(X_data)\n",
    "    total_accuracy = 0\n",
    "    sess = tf.get_default_session()\n",
    "    for offset in range(0, num_examples, BATCH_SIZE):\n",
    "        batch_x, batch_y = X_data[offset:offset+BATCH_SIZE], y_data[offset:offset+BATCH_SIZE]\n",
    "        accuracy = sess.run(accuracy_operation, feed_dict={x: batch_x, y: batch_y, keep_prob:1})\n",
    "        total_accuracy += (accuracy * len(batch_x))\n",
    "    return total_accuracy / num_examples"
   ]
  },
  {
   "cell_type": "code",
   "execution_count": 15,
   "metadata": {
    "colab": {
     "autoexec": {
      "startup": false,
      "wait_interval": 0
     },
     "base_uri": "https://localhost:8080/",
     "height": 2210
    },
    "colab_type": "code",
    "executionInfo": {
     "elapsed": 236673,
     "status": "ok",
     "timestamp": 1528470456477,
     "user": {
      "displayName": "Thiyagarajan Ramanathan",
      "photoUrl": "https://lh3.googleusercontent.com/a/default-user=s128",
      "userId": "111432628313695784552"
     },
     "user_tz": -330
    },
    "id": "CvUO7sScaAXB",
    "outputId": "0d871808-d05c-49c8-c6c6-fc4306f7dad3"
   },
   "outputs": [
    {
     "name": "stdout",
     "output_type": "stream",
     "text": [
      "Training...\n",
      "\n",
      "EPOCH 1 ...\n",
      "Validation Accuracy = 0.898\n",
      "\n",
      "EPOCH 2 ...\n",
      "Validation Accuracy = 0.925\n",
      "\n",
      "Model saved\n",
      "EPOCH 3 ...\n",
      "Validation Accuracy = 0.927\n",
      "\n",
      "Model saved\n",
      "EPOCH 4 ...\n",
      "Validation Accuracy = 0.923\n",
      "\n",
      "EPOCH 5 ...\n",
      "Validation Accuracy = 0.943\n",
      "\n",
      "Model saved\n",
      "EPOCH 6 ...\n",
      "Validation Accuracy = 0.946\n",
      "\n",
      "Model saved\n",
      "EPOCH 7 ...\n",
      "Validation Accuracy = 0.945\n",
      "\n",
      "EPOCH 8 ...\n",
      "Validation Accuracy = 0.931\n",
      "\n",
      "EPOCH 9 ...\n",
      "Validation Accuracy = 0.952\n",
      "\n",
      "Model saved\n",
      "EPOCH 10 ...\n",
      "Validation Accuracy = 0.934\n",
      "\n",
      "EPOCH 11 ...\n",
      "Validation Accuracy = 0.940\n",
      "\n",
      "EPOCH 12 ...\n",
      "Validation Accuracy = 0.946\n",
      "\n",
      "EPOCH 13 ...\n",
      "Validation Accuracy = 0.944\n",
      "\n",
      "EPOCH 14 ...\n",
      "Validation Accuracy = 0.946\n",
      "\n",
      "EPOCH 15 ...\n",
      "Validation Accuracy = 0.942\n",
      "\n",
      "EPOCH 16 ...\n",
      "Validation Accuracy = 0.939\n",
      "\n",
      "EPOCH 17 ...\n",
      "Validation Accuracy = 0.946\n",
      "\n",
      "EPOCH 18 ...\n",
      "Validation Accuracy = 0.946\n",
      "\n",
      "EPOCH 19 ...\n",
      "Validation Accuracy = 0.948\n",
      "\n",
      "EPOCH 20 ...\n",
      "Validation Accuracy = 0.957\n",
      "\n",
      "Model saved\n",
      "EPOCH 21 ...\n",
      "Validation Accuracy = 0.945\n",
      "\n",
      "EPOCH 22 ...\n",
      "Validation Accuracy = 0.954\n",
      "\n",
      "EPOCH 23 ...\n",
      "Validation Accuracy = 0.956\n",
      "\n",
      "EPOCH 24 ...\n",
      "Validation Accuracy = 0.952\n",
      "\n",
      "EPOCH 25 ...\n",
      "Validation Accuracy = 0.954\n",
      "\n",
      "EPOCH 26 ...\n",
      "Validation Accuracy = 0.958\n",
      "\n",
      "Model saved\n",
      "EPOCH 27 ...\n",
      "Validation Accuracy = 0.942\n",
      "\n",
      "EPOCH 28 ...\n",
      "Validation Accuracy = 0.940\n",
      "\n",
      "EPOCH 29 ...\n",
      "Validation Accuracy = 0.942\n",
      "\n",
      "EPOCH 30 ...\n",
      "Validation Accuracy = 0.958\n",
      "\n",
      "EPOCH 31 ...\n",
      "Validation Accuracy = 0.955\n",
      "\n",
      "EPOCH 32 ...\n",
      "Validation Accuracy = 0.947\n",
      "\n",
      "EPOCH 33 ...\n",
      "Validation Accuracy = 0.949\n",
      "\n",
      "EPOCH 34 ...\n",
      "Validation Accuracy = 0.956\n",
      "\n",
      "EPOCH 35 ...\n",
      "Validation Accuracy = 0.947\n",
      "\n",
      "EPOCH 36 ...\n",
      "Validation Accuracy = 0.932\n",
      "\n",
      "EPOCH 37 ...\n",
      "Validation Accuracy = 0.948\n",
      "\n",
      "EPOCH 38 ...\n",
      "Validation Accuracy = 0.942\n",
      "\n",
      "EPOCH 39 ...\n",
      "Validation Accuracy = 0.946\n",
      "\n",
      "EPOCH 40 ...\n",
      "Validation Accuracy = 0.934\n",
      "\n"
     ]
    }
   ],
   "source": [
    "with tf.Session() as sess:\n",
    "    #tf.initialize_all_variables().run()\n",
    "    sess.run(tf.global_variables_initializer())\n",
    "    #saver.restore(sess, tf.train.latest_checkpoint('.'))\n",
    "    num_examples = len(X_train)\n",
    "    accuracy=[]\n",
    "    print(\"Training...\")\n",
    "    print()\n",
    "    for i in range(EPOCHS):\n",
    "        X_train, y_train = shuffle(X_train, y_train)\n",
    "        for offset in range(0, num_examples, BATCH_SIZE):\n",
    "            end = offset + BATCH_SIZE\n",
    "            batch_x, batch_y = X_train[offset:end], y_train[offset:end]\n",
    "            sess.run(training_operation, feed_dict={x: batch_x, y: batch_y,keep_prob:0.5})\n",
    "            \n",
    "        validation_accuracy = evaluate(X_valid, y_valid)\n",
    "        print(\"EPOCH {} ...\".format(i+1))\n",
    "        print(\"Validation Accuracy = {:.3f}\".format(validation_accuracy))\n",
    "        print()\n",
    "        accuracy.append(validation_accuracy)\n",
    "        if i==0:\n",
    "          continue\n",
    "        if(np.amax(accuracy)<=validation_accuracy):\n",
    "            saver.save(sess, 'drive/Traffic-CARND-Project2/lenet-traffic3/model')\n",
    "            print(\"Model saved\")\n",
    "        "
   ]
  },
  {
   "cell_type": "code",
   "execution_count": 3,
   "metadata": {
    "colab": {
     "autoexec": {
      "startup": false,
      "wait_interval": 0
     }
    },
    "colab_type": "code",
    "id": "j4hJ6kf1n-r9"
   },
   "outputs": [
    {
     "data": {
      "image/png": "[encoded data removed]",
      "text/plain": [
       "<Figure size 432x288 with 8 Axes>"
      ]
     },
     "metadata": {},
     "output_type": "display_data"
    }
   ],
   "source": [
    "import cv2\n",
    "#reading in an image\n",
    "import glob\n",
    "\n",
    "images = [cv2.imread(file) for file in glob.glob(\"/Users/thiyagarajanramanathan/Desktop/Traffic-Sign-Classifier/new-traffic-signs/*x.png\")]\n",
    "import matplotlib.pyplot as plt\n",
    "for i in range(1,9):\n",
    "    plt.subplot(8,1,i)\n",
    "    plt.imshow(images[i-1])\n",
    "\n"
   ]
  },
  {
   "cell_type": "code",
   "execution_count": 0,
   "metadata": {
    "colab": {
     "autoexec": {
      "startup": false,
      "wait_interval": 0
     }
    },
    "colab_type": "code",
    "id": "wSWDUtSyc1xZ"
   },
   "outputs": [],
   "source": [
    "images=np.asarray(images)\n",
    "images.shape\n",
    "import matplotlib.pyplot as plt"
   ]
  },
  {
   "cell_type": "code",
   "execution_count": 19,
   "metadata": {
    "colab": {
     "autoexec": {
      "startup": false,
      "wait_interval": 0
     },
     "base_uri": "https://localhost:8080/",
     "height": 51
    },
    "colab_type": "code",
    "executionInfo": {
     "elapsed": 6375,
     "status": "ok",
     "timestamp": 1528470989666,
     "user": {
      "displayName": "Thiyagarajan Ramanathan",
      "photoUrl": "https://lh3.googleusercontent.com/a/default-user=s128",
      "userId": "111432628313695784552"
     },
     "user_tz": -330
    },
    "id": "zweMc2xYaJJh",
    "outputId": "a0051a86-4182-49ce-aec8-3b744406812f"
   },
   "outputs": [
    {
     "name": "stdout",
     "output_type": "stream",
     "text": [
      "INFO:tensorflow:Restoring parameters from drive/Traffic-CARND-Project2/lenet-traffic3/model\n",
      "Test Accuracy = 0.941\n"
     ]
    }
   ],
   "source": [
    "##Test image accuracy\n",
    "with tf.Session() as sess:\n",
    "    #saver.restore(sess, tf.train.latest_checkpoint('drive/Traffic-CARND-Project2'))\n",
    "    #sess.run(tf.global_variables_initializer())\n",
    "    saver = tf.train.import_meta_graph('drive/Traffic-CARND-Project2/lenet-traffic3/model.meta')\n",
    "    saver.restore(sess, \"drive/Traffic-CARND-Project2/lenet-traffic3/model\")\n",
    "\n",
    "    test_accuracy = evaluate(X_test, y_test)\n",
    "    print(\"Test Accuracy = {:.3f}\".format(test_accuracy))"
   ]
  },
  {
   "cell_type": "code",
   "execution_count": 0,
   "metadata": {
    "colab": {
     "autoexec": {
      "startup": false,
      "wait_interval": 0
     }
    },
    "colab_type": "code",
    "id": "2iriHQcqVEVB"
   },
   "outputs": [],
   "source": [
    "y_new_images=[18, 34, 38, 25, 1, 3, 11, 12]\n",
    "images = np.sum(images/3, axis=3, keepdims=True)\n",
    "images = (images - 128)/128 "
   ]
  },
  {
   "cell_type": "code",
   "execution_count": 22,
   "metadata": {
    "colab": {
     "autoexec": {
      "startup": false,
      "wait_interval": 0
     },
     "base_uri": "https://localhost:8080/",
     "height": 51
    },
    "colab_type": "code",
    "executionInfo": {
     "elapsed": 2670,
     "status": "ok",
     "timestamp": 1528471023044,
     "user": {
      "displayName": "Thiyagarajan Ramanathan",
      "photoUrl": "https://lh3.googleusercontent.com/a/default-user=s128",
      "userId": "111432628313695784552"
     },
     "user_tz": -330
    },
    "id": "fS-q4WOTuio5",
    "outputId": "d6d1dcb6-0b32-492e-edf1-dff2679f29b9"
   },
   "outputs": [
    {
     "name": "stdout",
     "output_type": "stream",
     "text": [
      "INFO:tensorflow:Restoring parameters from drive/Traffic-CARND-Project2/lenet-traffic3/model\n",
      "New Image Accuracy = 0.875\n"
     ]
    }
   ],
   "source": [
    "##New Image Accuracy\n",
    "with tf.Session() as sess:\n",
    "    sess.run(tf.global_variables_initializer())\n",
    "    saver = tf.train.import_meta_graph('drive/Traffic-CARND-Project2/lenet-traffic3/model.meta')\n",
    "    saver.restore(sess, \"drive/Traffic-CARND-Project2/lenet-traffic3/model\")\n",
    "\n",
    "    accuracy = evaluate(images, y_new_images)\n",
    "    print(\"New Image Accuracy = {:.3f}\".format(accuracy))"
   ]
  },
  {
   "cell_type": "code",
   "execution_count": 0,
   "metadata": {
    "colab": {
     "autoexec": {
      "startup": false,
      "wait_interval": 0
     }
    },
    "colab_type": "code",
    "id": "jiIEb358upgQ"
   },
   "outputs": [],
   "source": [
    "softmax_logits = tf.nn.softmax(logits)\n",
    "top_k = tf.nn.top_k(softmax_logits, k=3)"
   ]
  },
  {
   "cell_type": "code",
   "execution_count": 25,
   "metadata": {
    "colab": {
     "autoexec": {
      "startup": false,
      "wait_interval": 0
     },
     "base_uri": "https://localhost:8080/",
     "height": 289
    },
    "colab_type": "code",
    "executionInfo": {
     "elapsed": 1864,
     "status": "ok",
     "timestamp": 1528471063966,
     "user": {
      "displayName": "Thiyagarajan Ramanathan",
      "photoUrl": "https://lh3.googleusercontent.com/a/default-user=s128",
      "userId": "111432628313695784552"
     },
     "user_tz": -330
    },
    "id": "yx0JD7bSvZTv",
    "outputId": "7d8b363d-cc91-4b57-ba34-6670292ca02b"
   },
   "outputs": [
    {
     "name": "stdout",
     "output_type": "stream",
     "text": [
      "INFO:tensorflow:Restoring parameters from drive/Traffic-CARND-Project2/lenet-traffic3/model\n",
      "TopKV2(values=array([[1.0000000e+00, 8.6884175e-23, 2.0142048e-25],\n",
      "       [1.0000000e+00, 1.2785477e-13, 1.1878817e-13],\n",
      "       [1.0000000e+00, 0.0000000e+00, 0.0000000e+00],\n",
      "       [7.6252300e-01, 1.8973532e-01, 2.0012550e-02],\n",
      "       [1.0000000e+00, 1.6612581e-09, 2.4002116e-15],\n",
      "       [9.9971205e-01, 2.8567441e-04, 2.2562137e-06],\n",
      "       [1.0000000e+00, 7.0277811e-15, 2.8925276e-21],\n",
      "       [1.0000000e+00, 1.1669156e-18, 2.0483256e-21]], dtype=float32), indices=array([[18, 38, 26],\n",
      "       [34, 35, 15],\n",
      "       [38,  0,  1],\n",
      "       [11, 39, 25],\n",
      "       [ 1,  5,  2],\n",
      "       [ 3, 10, 20],\n",
      "       [11, 30,  5],\n",
      "       [12, 40, 35]], dtype=int32))\n"
     ]
    }
   ],
   "source": [
    "with tf.Session() as sess:\n",
    "    sess.run(tf.global_variables_initializer())\n",
    "    saver = tf.train.import_meta_graph('drive/Traffic-CARND-Project2/lenet-traffic3/model.meta')\n",
    "    saver.restore(sess, \"drive/Traffic-CARND-Project2/lenet-traffic3/model\")\n",
    "    \n",
    "    new_softmax_logits = sess.run(softmax_logits, feed_dict={x: images, keep_prob: 1.0})\n",
    "    new_top_k = sess.run(top_k, feed_dict={x:images, keep_prob: 1.0})\n",
    "    print(new_top_k)"
   ]
  },
  {
   "cell_type": "code",
   "execution_count": 0,
   "metadata": {
    "colab": {
     "autoexec": {
      "startup": false,
      "wait_interval": 0
     }
    },
    "colab_type": "code",
    "id": "D4wbc1urwVcf"
   },
   "outputs": [],
   "source": []
  }
 ],
 "metadata": {
  "accelerator": "GPU",
  "colab": {
   "collapsed_sections": [],
   "default_view": {},
   "name": "TrafficSignClassifier.ipynb",
   "provenance": [],
   "version": "0.3.2",
   "views": {}
  },
  "kernelspec": {
   "display_name": "Python 3",
   "language": "python",
   "name": "python3"
  },
  "language_info": {
   "codemirror_mode": {
    "name": "ipython",
    "version": 3
   },
   "file_extension": ".py",
   "mimetype": "text/x-python",
   "name": "python",
   "nbconvert_exporter": "python",
   "pygments_lexer": "ipython3",
   "version": "3.6.4"
  }
 },
 "nbformat": 4,
 "nbformat_minor": 1
}
